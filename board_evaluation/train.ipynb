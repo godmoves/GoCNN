{
 "cells": [
  {
   "cell_type": "code",
   "execution_count": 1,
   "metadata": {},
   "outputs": [],
   "source": [
    "import tensorflow as tf\n",
    "import os\n",
    "import sys\n",
    "import go_datafile_reader\n",
    "import model\n",
    "import numpy as np\n",
    "import model_eval"
   ]
  },
  {
   "cell_type": "code",
   "execution_count": 2,
   "metadata": {},
   "outputs": [],
   "source": [
    "train_dir = \"../data/input/train\"\n",
    "test_dir = \"../data/input/test\"\n",
    "ckpt_path = \"../data/working/cnn_5layer_64filter\""
   ]
  },
  {
   "cell_type": "code",
   "execution_count": 3,
   "metadata": {},
   "outputs": [
    {
     "name": "stdout",
     "output_type": "stream",
     "text": [
      "num train: 498, num test: 54\n"
     ]
    }
   ],
   "source": [
    "train_files = []\n",
    "for subdir, dirs, files in os.walk(train_dir):\n",
    "    for file in files:\n",
    "        filepath = subdir + os.sep + file\n",
    "        if filepath.endswith(\".dat\"):\n",
    "            train_files.append(filepath)\n",
    "\n",
    "test_files = []\n",
    "for subdir, dirs, files in os.walk(test_dir):\n",
    "    for file in files:\n",
    "        filepath = subdir + os.sep + file\n",
    "        if filepath.endswith(\".dat\"):\n",
    "            test_files.append(filepath)\n",
    "\n",
    "print \"num train: %d, num test: %d\" %(len(train_files), len(test_files))"
   ]
  },
  {
   "cell_type": "code",
   "execution_count": 4,
   "metadata": {},
   "outputs": [
    {
     "name": "stdout",
     "output_type": "stream",
     "text": [
      "Initializing pointers in 498 datafiles, this may take a few minutes\n"
     ]
    }
   ],
   "source": [
    "#note you may have to change the os limit for number of open files to use the RandomAccessFileReader\n",
    "#you can do this with the command \"sudo ulimit -n 20000\"\n",
    "#if sudo can't find the ulimit command try the following below\n",
    "#sudo sh -c \"ulimit -n 20000 && exec su $LOGNAME\"\n",
    "\n",
    "reader = go_datafile_reader.RandomAccessFileReader(train_files, board_size=9)\n",
    "test_reader = go_datafile_reader.GoDatafileReader(test_files, board_size=9)\n",
    "\n",
    "test_reader.num_epochs = 0\n",
    "test_features = []\n",
    "test_targets = []\n",
    "test_move_numbers = []\n",
    "while(test_reader.num_epochs == 0):\n",
    "    test_move_numbers.append(test_reader.move_index)\n",
    "    final_state, _, feature_cube = test_reader.read_sample()\n",
    "    test_features.append(feature_cube)\n",
    "    test_targets.append(final_state)"
   ]
  },
  {
   "cell_type": "code",
   "execution_count": 5,
   "metadata": {},
   "outputs": [
    {
     "name": "stdout",
     "output_type": "stream",
     "text": [
      "restore from previous checkpoint\n",
      "INFO:tensorflow:Restoring parameters from ../data/working/cnn_5layer_64filter\n"
     ]
    }
   ],
   "source": [
    "x, ownership = model.place_holders(board_size=9)\n",
    "y_conv = model.model(x, board_size=9)\n",
    "loss = model.loss_function(ownership, y_conv)\n",
    "train_op = model.train_step(loss)\n",
    "\n",
    "prediction = tf.round(y_conv)\n",
    "correct_prediction = tf.equal(ownership, prediction)\n",
    "correct_count = tf.reduce_sum(tf.cast(correct_prediction, \"float\"))\n",
    "accuracy = tf.reduce_mean(tf.cast(correct_prediction, \"float\"))\n",
    "\n",
    "sess = tf.InteractiveSession()\n",
    "sess.run(tf.global_variables_initializer())\n",
    "saver = tf.train.Saver(tf.global_variables())\n",
    "\n",
    "ckpt_dir, _ = os.path.split(ckpt_path)\n",
    "ckpt = tf.train.latest_checkpoint(ckpt_dir)\n",
    "if ckpt is not None:\n",
    "    print(\"restore from previous checkpoint\")\n",
    "    saver.restore(sess, ckpt)"
   ]
  },
  {
   "cell_type": "code",
   "execution_count": 6,
   "metadata": {
    "scrolled": true
   },
   "outputs": [
    {
     "name": "stdout",
     "output_type": "stream",
     "text": [
      "step=0, loss=0.103982, acc=0.856790\n",
      "Test accuracy: 0.834852\n",
      "Saving Checkpoint...\n",
      "step=10, loss=0.101945, acc=0.859506\n",
      "step=20, loss=0.102445, acc=0.863210\n",
      "step=30, loss=0.104539, acc=0.853333\n",
      "step=40, loss=0.099745, acc=0.865185\n",
      "step=50, loss=0.116503, acc=0.837037\n",
      "step=60, loss=0.101140, acc=0.863210\n",
      "step=70, loss=0.106569, acc=0.850370\n",
      "step=80, loss=0.085043, acc=0.886420\n",
      "step=90, loss=0.121852, acc=0.828642\n",
      "step=100, loss=0.102194, acc=0.853333\n",
      "step=110, loss=0.117685, acc=0.834568\n",
      "step=120, loss=0.094368, acc=0.871111\n",
      "step=130, loss=0.111247, acc=0.849383\n",
      "step=140, loss=0.082840, acc=0.888642\n",
      "step=150, loss=0.141996, acc=0.798272\n",
      "step=160, loss=0.098977, acc=0.865926\n",
      "step=170, loss=0.066498, acc=0.916790\n",
      "step=180, loss=0.104346, acc=0.853333\n",
      "step=190, loss=0.112968, acc=0.837531\n",
      "step=200, loss=0.104168, acc=0.864444\n",
      "step=210, loss=0.132831, acc=0.803951\n",
      "step=220, loss=0.101676, acc=0.855062\n",
      "step=230, loss=0.094071, acc=0.867901\n",
      "step=240, loss=0.089822, acc=0.874568\n",
      "step=250, loss=0.096882, acc=0.865679\n",
      "step=260, loss=0.080270, acc=0.891111\n",
      "step=270, loss=0.095690, acc=0.858765\n",
      "step=280, loss=0.106188, acc=0.845432\n",
      "step=290, loss=0.121015, acc=0.833827\n",
      "step=300, loss=0.109141, acc=0.846667\n",
      "step=310, loss=0.094609, acc=0.871111\n",
      "step=320, loss=0.123464, acc=0.827901\n",
      "step=330, loss=0.089522, acc=0.875802\n",
      "step=340, loss=0.098962, acc=0.858025\n",
      "step=350, loss=0.090149, acc=0.876296\n",
      "step=360, loss=0.091766, acc=0.870123\n",
      "step=370, loss=0.101344, acc=0.850617\n",
      "step=380, loss=0.096569, acc=0.862963\n",
      "step=390, loss=0.113087, acc=0.835556\n",
      "step=400, loss=0.109396, acc=0.842222\n",
      "step=410, loss=0.100214, acc=0.865432\n",
      "step=420, loss=0.095150, acc=0.865679\n",
      "step=430, loss=0.066234, acc=0.912840\n",
      "step=440, loss=0.091738, acc=0.872099\n",
      "step=450, loss=0.099077, acc=0.863457\n",
      "step=460, loss=0.090654, acc=0.873827\n",
      "step=470, loss=0.062586, acc=0.917778\n",
      "step=480, loss=0.118826, acc=0.837037\n",
      "step=490, loss=0.118659, acc=0.836049\n",
      "step=500, loss=0.083421, acc=0.880000\n",
      "step=510, loss=0.088734, acc=0.875309\n",
      "step=520, loss=0.067292, acc=0.909877\n",
      "step=530, loss=0.109746, acc=0.855556\n",
      "step=540, loss=0.107928, acc=0.840741\n",
      "step=550, loss=0.106414, acc=0.851605\n",
      "step=560, loss=0.106062, acc=0.840741\n",
      "step=570, loss=0.104336, acc=0.851852\n",
      "step=580, loss=0.088603, acc=0.881235\n",
      "step=590, loss=0.100283, acc=0.850864\n",
      "step=600, loss=0.099136, acc=0.864444\n",
      "step=610, loss=0.084098, acc=0.885185\n",
      "step=620, loss=0.082223, acc=0.890123\n",
      "step=630, loss=0.109971, acc=0.850123\n",
      "step=640, loss=0.091799, acc=0.873333\n",
      "step=650, loss=0.086980, acc=0.873333\n",
      "step=660, loss=0.075944, acc=0.894568\n",
      "step=670, loss=0.095414, acc=0.869630\n",
      "step=680, loss=0.099692, acc=0.863951\n",
      "step=690, loss=0.097914, acc=0.861975\n",
      "step=700, loss=0.094843, acc=0.863210\n",
      "step=710, loss=0.085803, acc=0.874815\n",
      "step=720, loss=0.116619, acc=0.831111\n",
      "step=730, loss=0.090526, acc=0.866914\n",
      "step=740, loss=0.119986, acc=0.832346\n",
      "step=750, loss=0.101383, acc=0.851852\n",
      "step=760, loss=0.093952, acc=0.862222\n",
      "step=770, loss=0.069703, acc=0.905185\n",
      "step=780, loss=0.090395, acc=0.871852\n",
      "step=790, loss=0.088737, acc=0.878765\n",
      "step=800, loss=0.092135, acc=0.877531\n",
      "step=810, loss=0.076405, acc=0.890123\n",
      "step=820, loss=0.091787, acc=0.874815\n",
      "step=830, loss=0.081965, acc=0.891358\n",
      "step=840, loss=0.106018, acc=0.852593\n",
      "step=850, loss=0.103819, acc=0.842222\n",
      "step=860, loss=0.086046, acc=0.888395\n",
      "step=870, loss=0.081239, acc=0.882716\n",
      "step=880, loss=0.082210, acc=0.882716\n",
      "step=890, loss=0.067915, acc=0.908889\n",
      "step=900, loss=0.110166, acc=0.849630\n",
      "step=910, loss=0.077589, acc=0.889877\n",
      "step=920, loss=0.088392, acc=0.893827\n",
      "step=930, loss=0.110159, acc=0.847654\n",
      "step=940, loss=0.115913, acc=0.833580\n",
      "step=950, loss=0.084778, acc=0.886173\n",
      "step=960, loss=0.091207, acc=0.871111\n",
      "step=970, loss=0.087724, acc=0.883704\n",
      "step=980, loss=0.082223, acc=0.882716\n",
      "step=990, loss=0.084706, acc=0.887407\n",
      "step=1000, loss=0.086699, acc=0.886173\n",
      "Test accuracy: 0.840123\n",
      "Saving Checkpoint...\n",
      "step=1010, loss=0.123277, acc=0.824444\n",
      "step=1020, loss=0.094362, acc=0.870123\n",
      "step=1030, loss=0.083611, acc=0.882469\n",
      "step=1040, loss=0.082832, acc=0.883951\n",
      "step=1050, loss=0.101475, acc=0.863457\n",
      "step=1060, loss=0.084388, acc=0.881728\n",
      "step=1070, loss=0.084158, acc=0.883951\n",
      "step=1080, loss=0.080059, acc=0.891605\n",
      "step=1090, loss=0.086024, acc=0.879753\n",
      "step=1100, loss=0.097167, acc=0.852593\n",
      "step=1110, loss=0.094875, acc=0.863457\n",
      "step=1120, loss=0.093146, acc=0.869136\n",
      "step=1130, loss=0.090434, acc=0.882222\n",
      "step=1140, loss=0.066291, acc=0.903210\n",
      "step=1150, loss=0.085924, acc=0.874568\n",
      "step=1160, loss=0.082852, acc=0.878272\n",
      "step=1170, loss=0.080189, acc=0.885679\n",
      "step=1180, loss=0.070565, acc=0.904444\n",
      "step=1190, loss=0.094077, acc=0.870123\n",
      "step=1200, loss=0.109379, acc=0.855556\n",
      "step=1210, loss=0.080340, acc=0.880247\n",
      "step=1220, loss=0.082224, acc=0.880000\n",
      "step=1230, loss=0.080288, acc=0.894321\n",
      "step=1240, loss=0.082774, acc=0.885432\n",
      "step=1250, loss=0.063731, acc=0.903704\n",
      "step=1260, loss=0.088249, acc=0.875309\n",
      "step=1270, loss=0.081017, acc=0.893086\n",
      "step=1280, loss=0.097830, acc=0.861975\n",
      "step=1290, loss=0.086746, acc=0.881975\n",
      "step=1300, loss=0.092175, acc=0.867654\n",
      "step=1310, loss=0.086698, acc=0.884938\n",
      "step=1320, loss=0.101774, acc=0.856296\n",
      "step=1330, loss=0.098458, acc=0.864691\n",
      "step=1340, loss=0.085614, acc=0.875802\n",
      "step=1350, loss=0.107657, acc=0.848889\n",
      "step=1360, loss=0.082313, acc=0.887654\n",
      "step=1370, loss=0.089673, acc=0.876790\n",
      "step=1380, loss=0.079144, acc=0.890617\n",
      "step=1390, loss=0.090284, acc=0.874568\n",
      "step=1400, loss=0.087571, acc=0.872593\n",
      "step=1410, loss=0.056678, acc=0.919012\n",
      "step=1420, loss=0.088100, acc=0.887901\n",
      "step=1430, loss=0.074355, acc=0.893086\n",
      "step=1440, loss=0.083192, acc=0.877037\n",
      "step=1450, loss=0.073681, acc=0.895802\n",
      "step=1460, loss=0.069285, acc=0.906420\n",
      "step=1470, loss=0.074755, acc=0.901482\n",
      "step=1480, loss=0.069806, acc=0.907654\n",
      "step=1490, loss=0.077103, acc=0.890370\n",
      "step=1500, loss=0.074454, acc=0.889136\n",
      "step=1510, loss=0.092734, acc=0.853827\n",
      "step=1520, loss=0.071181, acc=0.900741\n",
      "step=1530, loss=0.082897, acc=0.886173\n",
      "step=1540, loss=0.087883, acc=0.877531\n",
      "step=1550, loss=0.086048, acc=0.880741\n",
      "step=1560, loss=0.077893, acc=0.894074\n",
      "step=1570, loss=0.080398, acc=0.890123\n",
      "step=1580, loss=0.074046, acc=0.897778\n",
      "step=1590, loss=0.074811, acc=0.900000\n",
      "step=1600, loss=0.091932, acc=0.872593\n",
      "step=1610, loss=0.049331, acc=0.934815\n",
      "step=1620, loss=0.091940, acc=0.868395\n",
      "step=1630, loss=0.079985, acc=0.894568\n",
      "step=1640, loss=0.091781, acc=0.871358\n",
      "step=1650, loss=0.085951, acc=0.886667\n",
      "step=1660, loss=0.091139, acc=0.864691\n",
      "step=1670, loss=0.100186, acc=0.856790\n",
      "step=1680, loss=0.081571, acc=0.878765\n",
      "step=1690, loss=0.093958, acc=0.873580\n",
      "step=1700, loss=0.084422, acc=0.872346\n",
      "step=1710, loss=0.091573, acc=0.866173\n",
      "step=1720, loss=0.082030, acc=0.892346\n",
      "step=1730, loss=0.083916, acc=0.876543\n",
      "step=1740, loss=0.085790, acc=0.871358\n",
      "step=1750, loss=0.087770, acc=0.875062\n",
      "step=1760, loss=0.095215, acc=0.866914\n",
      "step=1770, loss=0.092346, acc=0.872593\n",
      "step=1780, loss=0.069702, acc=0.903951\n",
      "step=1790, loss=0.093088, acc=0.868148\n",
      "step=1800, loss=0.084151, acc=0.885679\n",
      "step=1810, loss=0.086879, acc=0.889383\n",
      "step=1820, loss=0.104842, acc=0.854568\n",
      "step=1830, loss=0.071665, acc=0.898519\n",
      "step=1840, loss=0.063580, acc=0.911605\n",
      "step=1850, loss=0.099303, acc=0.847654\n",
      "step=1860, loss=0.065472, acc=0.910864\n",
      "step=1870, loss=0.064214, acc=0.918765\n",
      "step=1880, loss=0.073479, acc=0.900988\n",
      "step=1890, loss=0.091667, acc=0.879506\n",
      "step=1900, loss=0.072445, acc=0.901728\n",
      "step=1910, loss=0.084908, acc=0.879259\n",
      "step=1920, loss=0.078672, acc=0.894321\n",
      "step=1930, loss=0.086719, acc=0.876790\n",
      "step=1940, loss=0.080738, acc=0.874568\n",
      "step=1950, loss=0.078815, acc=0.892593\n",
      "step=1960, loss=0.086725, acc=0.877284\n",
      "step=1970, loss=0.069889, acc=0.897037\n",
      "step=1980, loss=0.092990, acc=0.864938\n",
      "step=1990, loss=0.057926, acc=0.930370\n",
      "step=2000, loss=0.087725, acc=0.885432\n",
      "Test accuracy: 0.845411\n",
      "Saving Checkpoint...\n",
      "step=2010, loss=0.080323, acc=0.898272\n",
      "step=2020, loss=0.099138, acc=0.860247\n",
      "step=2030, loss=0.085190, acc=0.882963\n",
      "step=2040, loss=0.083743, acc=0.886173\n",
      "step=2050, loss=0.066110, acc=0.909383\n",
      "step=2060, loss=0.075703, acc=0.903457\n",
      "step=2070, loss=0.081933, acc=0.888889\n",
      "step=2080, loss=0.069569, acc=0.899259\n",
      "step=2090, loss=0.097412, acc=0.859012\n"
     ]
    },
    {
     "name": "stdout",
     "output_type": "stream",
     "text": [
      "step=2100, loss=0.080565, acc=0.878765\n",
      "step=2110, loss=0.058438, acc=0.923457\n",
      "step=2120, loss=0.081410, acc=0.890370\n",
      "step=2130, loss=0.082925, acc=0.885432\n",
      "step=2140, loss=0.074891, acc=0.901235\n",
      "step=2150, loss=0.093941, acc=0.860494\n",
      "step=2160, loss=0.075371, acc=0.897531\n",
      "step=2170, loss=0.079277, acc=0.882469\n",
      "step=2180, loss=0.082039, acc=0.880741\n",
      "step=2190, loss=0.067985, acc=0.910617\n",
      "step=2200, loss=0.064710, acc=0.916543\n",
      "step=2210, loss=0.065744, acc=0.907161\n",
      "step=2220, loss=0.093132, acc=0.872593\n",
      "step=2230, loss=0.074656, acc=0.900000\n",
      "step=2240, loss=0.056948, acc=0.928889\n",
      "step=2250, loss=0.077617, acc=0.885926\n",
      "step=2260, loss=0.084246, acc=0.892346\n",
      "step=2270, loss=0.081369, acc=0.886173\n",
      "step=2280, loss=0.075004, acc=0.899012\n",
      "step=2290, loss=0.067374, acc=0.900741\n",
      "step=2300, loss=0.069006, acc=0.907901\n",
      "step=2310, loss=0.062412, acc=0.926173\n",
      "step=2320, loss=0.074503, acc=0.901235\n",
      "step=2330, loss=0.082469, acc=0.888395\n",
      "step=2340, loss=0.064589, acc=0.915309\n",
      "step=2350, loss=0.088210, acc=0.878272\n",
      "step=2360, loss=0.077890, acc=0.895062\n",
      "step=2370, loss=0.060855, acc=0.913086\n",
      "step=2380, loss=0.070250, acc=0.902963\n",
      "step=2390, loss=0.051576, acc=0.924691\n",
      "step=2400, loss=0.073520, acc=0.888642\n",
      "step=2410, loss=0.068118, acc=0.896790\n",
      "step=2420, loss=0.087898, acc=0.881975\n",
      "step=2430, loss=0.105371, acc=0.871111\n",
      "step=2440, loss=0.084645, acc=0.894321\n",
      "step=2450, loss=0.079794, acc=0.898519\n",
      "step=2460, loss=0.084249, acc=0.882716\n",
      "step=2470, loss=0.079123, acc=0.889630\n",
      "step=2480, loss=0.083777, acc=0.883704\n",
      "step=2490, loss=0.082416, acc=0.883951\n"
     ]
    }
   ],
   "source": [
    "best_test_accuracy = 0\n",
    "training_accuracies = []\n",
    "test_accuracies = []\n",
    "for k in range(2500):\n",
    "    x_batch, y_batch = reader.get_batch(50)\n",
    "    _, loss_value, y_value = sess.run([train_op, loss, y_conv], feed_dict={x:x_batch, ownership:y_batch})\n",
    "    if k % 10 == 0:\n",
    "        acc = accuracy.eval(feed_dict={x:x_batch, ownership:y_batch})\n",
    "        training_accuracies.append(acc)\n",
    "        print('step=%d, loss=%f, acc=%f' % (k, loss_value, acc))\n",
    "            \n",
    "    if k % 1000 == 0:\n",
    "        test_accuracy = model_eval.test_accuracy(test_features, test_targets, x, ownership, correct_count, board_size=9)\n",
    "        test_accuracies.append(test_accuracy)\n",
    "        print(\"Test accuracy: %f\" % test_accuracy)\n",
    "        if test_accuracy > best_test_accuracy:\n",
    "            print(\"New best test accuracy, saving checkpoint...\")\n",
    "            saver.save(sess, ckpt_path)\n",
    "            best_test_accuracy = test_accuracy\n",
    "        else:\n",
    "            print('test accuracy %s less than %s, no progress...' % (\n",
    "                test_accuracy, best_test_accuracy))"
   ]
  },
  {
   "cell_type": "code",
   "execution_count": 7,
   "metadata": {},
   "outputs": [],
   "source": [
    "import matplotlib.pyplot as plt\n",
    "import numpy as np"
   ]
  },
  {
   "cell_type": "code",
   "execution_count": 8,
   "metadata": {},
   "outputs": [],
   "source": [
    "def rolling_mean(number_list, window = 20):\n",
    "    means = np.zeros(len(number_list))\n",
    "    for i in xrange(len(means)):\n",
    "        sub_window = number_list[i-window+1:i+1]\n",
    "        means[i] = np.mean(sub_window)\n",
    "    return means"
   ]
  },
  {
   "cell_type": "code",
   "execution_count": 9,
   "metadata": {},
   "outputs": [
    {
     "name": "stdout",
     "output_type": "stream",
     "text": [
      "250\n"
     ]
    },
    {
     "data": {
      "image/png": "[encoded data removed]",
      "text/plain": [
       "<Figure size 432x288 with 1 Axes>"
      ]
     },
     "metadata": {
      "needs_background": "light"
     },
     "output_type": "display_data"
    }
   ],
   "source": [
    "print len(training_accuracies)\n",
    "means = rolling_mean(test_accuracies, 20)\n",
    "plt.plot(test_accuracies, label=\"Batch Accuracy\")\n",
    "plt.plot(means, label= \"Rolling Mean\")\n",
    "plt.title(\"Good Data Mixing 5layer 64filters\")\n",
    "plt.xlabel(\"Batch Num / 10\")\n",
    "plt.ylabel(\"Accuracy\")\n",
    "plt.ylim([0.6,1])\n",
    "plt.legend(loc=3)\n",
    "plt.show()"
   ]
  },
  {
   "cell_type": "code",
   "execution_count": 10,
   "metadata": {},
   "outputs": [
    {
     "name": "stdout",
     "output_type": "stream",
     "text": [
      "0\n",
      "500\n",
      "1000\n",
      "1500\n",
      "2000\n",
      "2500\n",
      "3000\n",
      "3500\n",
      "4000\n",
      "4500\n"
     ]
    }
   ],
   "source": [
    "accuracies = []\n",
    "y_trues = []\n",
    "y_preds = []\n",
    "y_vals = []\n",
    "feature_cubes = []\n",
    "for i in xrange(len(test_features)):\n",
    "    if i%500 == 0:\n",
    "        print i\n",
    "    x_, y_ = test_features[i], test_targets[i]\n",
    "    y_val, y_pred, acc = sess.run([y_conv, prediction, accuracy], feed_dict={x:[x_], ownership:[y_]})\n",
    "    accuracies.append(acc)\n",
    "    y_trues.append(np.reshape(y_, [9,9]))\n",
    "    y_preds.append(np.reshape(y_pred[0], [9,9]))\n",
    "    y_vals.append(np.reshape(y_val[0], [9,9]))\n",
    "    feature_cubes.append(x_)"
   ]
  },
  {
   "cell_type": "code",
   "execution_count": 11,
   "metadata": {},
   "outputs": [
    {
     "name": "stdout",
     "output_type": "stream",
     "text": [
      "(48, 0.8888889)\n",
      "*********   000000000   112122100   000000000   .........\n",
      "*****0***   000001000   231136121   000000000   .....X...\n",
      "00000110*   000001000   301138300   000000000   .....X...\n",
      "01101000*   111111001   999999509   011010000   X..X.X..X\n",
      "1**111010   111111111   999999999   111111010   ......X.X\n",
      "**1*1011*   111111111   999999999   111111110   ........X\n",
      "*1011001*   111111111   999999999   111111111   .........\n",
      "*1000001*   111111111   999999999   111111111   .........\n",
      "**11*101*   111111111   999999999   111111111   .........\n"
     ]
    },
    {
     "data": {
      "text/plain": [
       "9"
      ]
     },
     "execution_count": 11,
     "metadata": {},
     "output_type": "execute_result"
    }
   ],
   "source": [
    "idx = 234\n",
    "y_pred = y_preds[idx]\n",
    "y_val = y_vals[idx]\n",
    "y_true = y_trues[idx]\n",
    "feature_cube = feature_cubes[idx]\n",
    "\n",
    "print(test_move_numbers[idx], accuracies[idx])\n",
    "model_eval.print_info(feature_cube, y_pred, y_val, y_true, board_size=9)"
   ]
  },
  {
   "cell_type": "code",
   "execution_count": 12,
   "metadata": {},
   "outputs": [],
   "source": [
    "import pandas as pd"
   ]
  },
  {
   "cell_type": "code",
   "execution_count": 13,
   "metadata": {},
   "outputs": [],
   "source": [
    "df = pd.DataFrame()\n",
    "df[\"Move Num\"] = test_move_numbers\n",
    "df[\"Accuracy\"] = accuracies\n",
    "grouped = df.groupby(\"Move Num\").aggregate(np.mean)\n"
   ]
  },
  {
   "cell_type": "code",
   "execution_count": 14,
   "metadata": {},
   "outputs": [
    {
     "data": {
      "image/png": "[encoded data removed]",
      "text/plain": [
       "<Figure size 432x288 with 1 Axes>"
      ]
     },
     "metadata": {
      "needs_background": "light"
     },
     "output_type": "display_data"
    }
   ],
   "source": [
    "grouped.plot()\n",
    "plt.title(\"Accuracy by move number, 5layer 64filters\")\n",
    "plt.xlabel(\"Move Number\")\n",
    "plt.ylabel(\"Accuracy\")\n",
    "plt.show()"
   ]
  },
  {
   "cell_type": "code",
   "execution_count": 15,
   "metadata": {},
   "outputs": [
    {
     "data": {
      "image/png": "[encoded data removed]",
      "text/plain": [
       "<Figure size 432x288 with 1 Axes>"
      ]
     },
     "metadata": {
      "needs_background": "light"
     },
     "output_type": "display_data"
    }
   ],
   "source": [
    "plot = plt.hist(df[df[\"Move Num\"] == 70][\"Accuracy\"].values, bins = 40)\n",
    "plt.show()"
   ]
  },
  {
   "cell_type": "code",
   "execution_count": null,
   "metadata": {},
   "outputs": [],
   "source": []
  }
 ],
 "metadata": {
  "kernelspec": {
   "display_name": "Python 2",
   "language": "python",
   "name": "python2"
  },
  "language_info": {
   "codemirror_mode": {
    "name": "ipython",
    "version": 2
   },
   "file_extension": ".py",
   "mimetype": "text/x-python",
   "name": "python",
   "nbconvert_exporter": "python",
   "pygments_lexer": "ipython2",
   "version": "2.7.15"
  }
 },
 "nbformat": 4,
 "nbformat_minor": 1
}
