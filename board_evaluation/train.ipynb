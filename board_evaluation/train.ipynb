{
 "cells": [
  {
   "cell_type": "code",
   "execution_count": 1,
   "metadata": {},
   "outputs": [],
   "source": [
    "import tensorflow as tf\n",
    "import os\n",
    "import sys\n",
    "import go_datafile_reader\n",
    "import model\n",
    "import numpy as np\n",
    "import model_eval"
   ]
  },
  {
   "cell_type": "code",
   "execution_count": 2,
   "metadata": {},
   "outputs": [],
   "source": [
    "train_dir = \"../data/input/train\"\n",
    "test_dir = \"../data/input/test\"\n",
    "ckpt_path = \"../data/working/test.ckpt\""
   ]
  },
  {
   "cell_type": "code",
   "execution_count": 3,
   "metadata": {},
   "outputs": [
    {
     "name": "stdout",
     "output_type": "stream",
     "text": [
      "num train: 498, num test: 54\n"
     ]
    }
   ],
   "source": [
    "train_files = []\n",
    "for subdir, dirs, files in os.walk(train_dir):\n",
    "    for file in files:\n",
    "        filepath = subdir + os.sep + file\n",
    "        if filepath.endswith(\".dat\"):\n",
    "            train_files.append(filepath)\n",
    "\n",
    "test_files = []\n",
    "for subdir, dirs, files in os.walk(test_dir):\n",
    "    for file in files:\n",
    "        filepath = subdir + os.sep + file\n",
    "        if filepath.endswith(\".dat\"):\n",
    "            test_files.append(filepath)\n",
    "\n",
    "print \"num train: %d, num test: %d\" %(len(train_files), len(test_files))"
   ]
  },
  {
   "cell_type": "code",
   "execution_count": 4,
   "metadata": {},
   "outputs": [
    {
     "name": "stdout",
     "output_type": "stream",
     "text": [
      "Initializing pointers in 498 datafiles, this may take a few minutes\n"
     ]
    }
   ],
   "source": [
    "#note you may have to change the os limit for number of open files to use the RandomAccessFileReader\n",
    "#you can do this with the command \"sudo ulimit -n 20000\"\n",
    "#if sudo can't find the ulimit command try the following below\n",
    "#sudo sh -c \"ulimit -n 20000 && exec su $LOGNAME\"\n",
    "\n",
    "reader = go_datafile_reader.RandomAccessFileReader(train_files, board_size=9)\n",
    "test_reader = go_datafile_reader.GoDatafileReader(test_files, board_size=9)\n",
    "\n",
    "test_reader.num_epochs = 0\n",
    "test_features = []\n",
    "test_targets = []\n",
    "test_move_numbers = []\n",
    "while(test_reader.num_epochs == 0):\n",
    "    test_move_numbers.append(test_reader.move_index)\n",
    "    final_state, _, feature_cube = test_reader.read_sample()\n",
    "    test_features.append(feature_cube)\n",
    "    test_targets.append(final_state)"
   ]
  },
  {
   "cell_type": "code",
   "execution_count": 5,
   "metadata": {},
   "outputs": [
    {
     "name": "stdout",
     "output_type": "stream",
     "text": [
      "498\n"
     ]
    }
   ],
   "source": [
    "print len(reader.open_files)"
   ]
  },
  {
   "cell_type": "code",
   "execution_count": 6,
   "metadata": {},
   "outputs": [
    {
     "name": "stdout",
     "output_type": "stream",
     "text": [
      "WARNING:tensorflow:From /home/mankit/.local/lib/python2.7/site-packages/tensorflow/python/util/tf_should_use.py:118: initialize_all_variables (from tensorflow.python.ops.variables) is deprecated and will be removed after 2017-03-02.\n",
      "Instructions for updating:\n",
      "Use `tf.global_variables_initializer` instead.\n",
      "WARNING:tensorflow:From <ipython-input-6-5557f3e885a2>:13: all_variables (from tensorflow.python.ops.variables) is deprecated and will be removed after 2017-03-02.\n",
      "Instructions for updating:\n",
      "Please use tf.global_variables instead.\n",
      "restore from previous checkpoint\n",
      "INFO:tensorflow:Restoring parameters from ../data/working/test.ckpt\n"
     ]
    }
   ],
   "source": [
    "x, ownership = model.place_holders(board_size=9)\n",
    "y_conv = model.model(x, board_size=9)\n",
    "loss = model.loss_function(ownership, y_conv)\n",
    "train_op = model.train_step(loss)\n",
    "\n",
    "prediction = tf.round(y_conv)\n",
    "correct_prediction = tf.equal(ownership, prediction)\n",
    "correct_count = tf.reduce_sum(tf.cast(correct_prediction, \"float\"))\n",
    "accuracy = tf.reduce_mean(tf.cast(correct_prediction, \"float\"))\n",
    "\n",
    "sess = tf.InteractiveSession()\n",
    "sess.run(tf.initialize_all_variables())\n",
    "saver = tf.train.Saver(tf.all_variables())\n",
    "\n",
    "ckpt_dir, _ = os.path.split(ckpt_path)\n",
    "ckpt = tf.train.latest_checkpoint(ckpt_dir)\n",
    "if ckpt is not None:\n",
    "    print(\"restore from previous checkpoint\")\n",
    "    saver.restore(sess, ckpt)"
   ]
  },
  {
   "cell_type": "code",
   "execution_count": 7,
   "metadata": {
    "scrolled": true
   },
   "outputs": [
    {
     "name": "stdout",
     "output_type": "stream",
     "text": [
      "0 0.05513306 0.9145679\n",
      "Test accuracy: 0.877502\n",
      "Saving Checkpoint...\n",
      "10 0.056059714 0.9138272\n",
      "20 0.036940735 0.9508642\n",
      "30 0.031176323 0.9565432\n",
      "40 0.041148297 0.94222224\n",
      "50 0.013252912 0.9866667\n",
      "60 0.053553708 0.91728395\n",
      "70 0.019226512 0.97481483\n",
      "80 0.029635008 0.96074075\n",
      "90 0.040903687 0.9387654\n",
      "100 0.03554027 0.951358\n",
      "110 0.021569101 0.9711111\n",
      "120 0.03975025 0.9414815\n",
      "130 0.03246699 0.9562963\n",
      "140 0.043855127 0.94222224\n",
      "150 0.032503523 0.9604938\n",
      "160 0.04407858 0.93777776\n",
      "170 0.034749113 0.95160496\n",
      "180 0.049325768 0.917037\n",
      "190 0.0434939 0.92938274\n",
      "200 0.046032373 0.93333334\n",
      "210 0.028576117 0.95555556\n",
      "220 0.033097375 0.95753086\n",
      "230 0.03186476 0.9582716\n",
      "240 0.032864366 0.95555556\n"
     ]
    }
   ],
   "source": [
    "training_accuracies = []\n",
    "test_accuracies = []\n",
    "for k in range(250):\n",
    "    x_batch, y_batch = reader.get_batch(50)\n",
    "    _, loss_value, y_value = sess.run([train_op, loss, y_conv], feed_dict={x:x_batch, ownership:y_batch})\n",
    "    if k % 10 == 0:\n",
    "        acc = accuracy.eval(feed_dict={x:x_batch, ownership:y_batch})\n",
    "        training_accuracies.append(acc)\n",
    "        print k, loss_value, acc\n",
    "            \n",
    "    if k % 1000 == 0:\n",
    "        test_accuracy = model_eval.test_accuracy(test_features, test_targets, x, ownership, correct_count, board_size=9)\n",
    "        test_accuracies.append(test_accuracy)\n",
    "        print \"Test accuracy: %f\" %test_accuracy\n",
    "    if k % 1000 == 0:\n",
    "        print \"Saving Checkpoint...\"\n",
    "        saver.save(sess, ckpt_path)\n",
    "    "
   ]
  },
  {
   "cell_type": "code",
   "execution_count": 8,
   "metadata": {},
   "outputs": [],
   "source": [
    "import matplotlib.pyplot as plt\n",
    "import numpy as np"
   ]
  },
  {
   "cell_type": "code",
   "execution_count": 9,
   "metadata": {},
   "outputs": [],
   "source": [
    "def rolling_mean(number_list, window = 20):\n",
    "    means = np.zeros(len(number_list))\n",
    "    for i in xrange(len(means)):\n",
    "        sub_window = number_list[i-window+1:i+1]\n",
    "        means[i] = np.mean(sub_window)\n",
    "    return means"
   ]
  },
  {
   "cell_type": "code",
   "execution_count": 10,
   "metadata": {},
   "outputs": [
    {
     "name": "stdout",
     "output_type": "stream",
     "text": [
      "25\n"
     ]
    },
    {
     "data": {
      "image/png": "[encoded data removed]",
      "text/plain": [
       "<Figure size 432x288 with 1 Axes>"
      ]
     },
     "metadata": {
      "needs_background": "light"
     },
     "output_type": "display_data"
    }
   ],
   "source": [
    "print len(training_accuracies)\n",
    "means = rolling_mean(test_accuracies, 20)\n",
    "plt.plot(test_accuracies, label=\"Batch Accuracy\")\n",
    "plt.plot(means, label= \"Rolling Mean\")\n",
    "plt.title(\"Good Data Mixing 5layer 64filters\")\n",
    "plt.xlabel(\"Batch Num / 10\")\n",
    "plt.ylabel(\"Accuracy\")\n",
    "plt.ylim([0.6,1])\n",
    "plt.legend(loc=3)\n",
    "plt.show()"
   ]
  },
  {
   "cell_type": "code",
   "execution_count": 20,
   "metadata": {},
   "outputs": [
    {
     "name": "stdout",
     "output_type": "stream",
     "text": [
      "0\n",
      "500\n",
      "1000\n",
      "1500\n",
      "2000\n",
      "2500\n",
      "3000\n",
      "3500\n",
      "4000\n",
      "4500\n"
     ]
    }
   ],
   "source": [
    "accuracies = []\n",
    "y_trues = []\n",
    "y_preds = []\n",
    "y_vals = []\n",
    "feature_cubes = []\n",
    "for i in xrange(len(test_features)):\n",
    "    if i%500 == 0:\n",
    "        print i\n",
    "    x_, y_ = test_features[i], test_targets[i]\n",
    "    y_val, y_pred, acc = sess.run([y_conv, prediction, accuracy], feed_dict={x:[x_], ownership:[y_]})\n",
    "    accuracies.append(acc)\n",
    "    y_trues.append(np.reshape(y_, [9,9]))\n",
    "    y_preds.append(np.reshape(y_pred[0], [9,9]))\n",
    "    y_vals.append(np.reshape(y_val[0], [9,9]))\n",
    "    feature_cubes.append(x_)"
   ]
  },
  {
   "cell_type": "code",
   "execution_count": 23,
   "metadata": {},
   "outputs": [
    {
     "name": "stdout",
     "output_type": "stream",
     "text": [
      "(36, 0.91358024)\n",
      "**OX*****   OOOOOOOOX   000110159   OOOOOOOOO\n",
      "*XOX**X**   OOOOOOOXX   000321299   OOOOOOOOO\n",
      "**OXXXX**   OOOXOOOXX   000920457   OOOOOOOOO\n",
      "*O*OOOOX*   OOOOOOOXO   000000071   OOOOOOOOO\n",
      "**O***OXO   OOOOOOOOO   000000010   OOOOOOOOO\n",
      "*XO*OO*O*   OOOOOOOOO   000000000   OOOOOOOOO\n",
      "*O*O*XO**   OOOOOOOOO   000000000   OOOOOOOOO\n",
      "*********   OOOOOOOOO   000000000   OOOOOOOOO\n",
      "*********   OOOOOOOOO   000000000   OOOOOOOOO\n"
     ]
    }
   ],
   "source": [
    "idx = 432\n",
    "y_pred = y_preds[idx]\n",
    "y_val = y_vals[idx]\n",
    "y_true = y_trues[idx]\n",
    "feature_cube = feature_cubes[idx]\n",
    "\n",
    "print(test_move_numbers[idx], accuracies[idx])\n",
    "model_eval.print_info(feature_cube, y_pred, y_val, y_true, board_size=9)"
   ]
  },
  {
   "cell_type": "code",
   "execution_count": 24,
   "metadata": {},
   "outputs": [],
   "source": [
    "import pandas as pd"
   ]
  },
  {
   "cell_type": "code",
   "execution_count": 25,
   "metadata": {},
   "outputs": [],
   "source": [
    "df = pd.DataFrame()\n",
    "df[\"Move Num\"] = test_move_numbers\n",
    "df[\"Accuracy\"] = accuracies\n",
    "grouped = df.groupby(\"Move Num\").aggregate(np.mean)\n"
   ]
  },
  {
   "cell_type": "code",
   "execution_count": 26,
   "metadata": {},
   "outputs": [
    {
     "data": {
      "image/png": "[encoded data removed]",
      "text/plain": [
       "<Figure size 432x288 with 1 Axes>"
      ]
     },
     "metadata": {
      "needs_background": "light"
     },
     "output_type": "display_data"
    }
   ],
   "source": [
    "grouped.plot()\n",
    "plt.title(\"Accuracy by move number, 5layer 64filters\")\n",
    "plt.xlabel(\"Move Number\")\n",
    "plt.ylabel(\"Accuracy\")\n",
    "plt.show()"
   ]
  },
  {
   "cell_type": "code",
   "execution_count": 28,
   "metadata": {},
   "outputs": [
    {
     "data": {
      "image/png": "[encoded data removed]",
      "text/plain": [
       "<Figure size 432x288 with 1 Axes>"
      ]
     },
     "metadata": {
      "needs_background": "light"
     },
     "output_type": "display_data"
    }
   ],
   "source": [
    "plot = plt.hist(df[df[\"Move Num\"] == 70][\"Accuracy\"].values, bins = 40)\n",
    "plt.show()"
   ]
  },
  {
   "cell_type": "code",
   "execution_count": null,
   "metadata": {},
   "outputs": [],
   "source": []
  }
 ],
 "metadata": {
  "kernelspec": {
   "display_name": "GoCNN py2",
   "language": "python",
   "name": "gocnn_py2"
  },
  "language_info": {
   "codemirror_mode": {
    "name": "ipython",
    "version": 2
   },
   "file_extension": ".py",
   "mimetype": "text/x-python",
   "name": "python",
   "nbconvert_exporter": "python",
   "pygments_lexer": "ipython2",
   "version": "2.7.15"
  }
 },
 "nbformat": 4,
 "nbformat_minor": 1
}
