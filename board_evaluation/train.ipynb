{
 "cells": [
  {
   "cell_type": "code",
   "execution_count": 25,
   "metadata": {},
   "outputs": [],
   "source": [
    "import tensorflow as tf\n",
    "import os\n",
    "import sys\n",
    "import go_datafile_reader\n",
    "import model\n",
    "import numpy as np\n",
    "import model_eval"
   ]
  },
  {
   "cell_type": "code",
   "execution_count": 2,
   "metadata": {},
   "outputs": [],
   "source": [
    "train_dir = \"../data/input/train\"\n",
    "test_dir = \"../data/input/test\"\n",
    "ckpt_path = \"../data/working/test.ckpt\""
   ]
  },
  {
   "cell_type": "code",
   "execution_count": 3,
   "metadata": {},
   "outputs": [
    {
     "name": "stdout",
     "output_type": "stream",
     "text": [
      "num train: 498, num test: 54\n"
     ]
    }
   ],
   "source": [
    "train_files = []\n",
    "for subdir, dirs, files in os.walk(train_dir):\n",
    "    for file in files:\n",
    "        filepath = subdir + os.sep + file\n",
    "        if filepath.endswith(\".dat\"):\n",
    "            train_files.append(filepath)\n",
    "\n",
    "test_files = []\n",
    "for subdir, dirs, files in os.walk(test_dir):\n",
    "    for file in files:\n",
    "        filepath = subdir + os.sep + file\n",
    "        if filepath.endswith(\".dat\"):\n",
    "            test_files.append(filepath)\n",
    "\n",
    "print \"num train: %d, num test: %d\" %(len(train_files), len(test_files))"
   ]
  },
  {
   "cell_type": "code",
   "execution_count": 4,
   "metadata": {},
   "outputs": [
    {
     "name": "stdout",
     "output_type": "stream",
     "text": [
      "Initializing pointers in 498 datafiles, this may take a few minutes\n"
     ]
    }
   ],
   "source": [
    "#note you may have to change the os limit for number of open files to use the RandomAccessFileReader\n",
    "#you can do this with the command \"sudo ulimit -n 20000\"\n",
    "#if sudo can't find the ulimit command try the following below\n",
    "#sudo sh -c \"ulimit -n 20000 && exec su $LOGNAME\"\n",
    "\n",
    "reader = go_datafile_reader.RandomAccessFileReader(train_files, board_size=9)\n",
    "test_reader = go_datafile_reader.GoDatafileReader(test_files, board_size=9)\n",
    "\n",
    "test_reader.num_epochs = 0\n",
    "test_features = []\n",
    "test_targets = []\n",
    "test_move_numbers = []\n",
    "while(test_reader.num_epochs == 0):\n",
    "    test_move_numbers.append(test_reader.move_index)\n",
    "    final_state, _, feature_cube = test_reader.read_sample()\n",
    "    test_features.append(feature_cube)\n",
    "    test_targets.append(final_state)"
   ]
  },
  {
   "cell_type": "code",
   "execution_count": 5,
   "metadata": {},
   "outputs": [
    {
     "name": "stdout",
     "output_type": "stream",
     "text": [
      "498\n"
     ]
    }
   ],
   "source": [
    "print len(reader.open_files)"
   ]
  },
  {
   "cell_type": "code",
   "execution_count": 6,
   "metadata": {},
   "outputs": [
    {
     "name": "stdout",
     "output_type": "stream",
     "text": [
      "WARNING:tensorflow:From /home/mankit/.conda/envs/gocnn/lib/python2.7/site-packages/tensorflow/python/util/tf_should_use.py:118: initialize_all_variables (from tensorflow.python.ops.variables) is deprecated and will be removed after 2017-03-02.\n",
      "Instructions for updating:\n",
      "Use `tf.global_variables_initializer` instead.\n",
      "WARNING:tensorflow:From <ipython-input-6-5557f3e885a2>:13: all_variables (from tensorflow.python.ops.variables) is deprecated and will be removed after 2017-03-02.\n",
      "Instructions for updating:\n",
      "Please use tf.global_variables instead.\n",
      "restore from previous checkpoint\n",
      "INFO:tensorflow:Restoring parameters from ../data/working/test.ckpt\n"
     ]
    }
   ],
   "source": [
    "x, ownership = model.place_holders(board_size=9)\n",
    "y_conv = model.model(x, board_size=9)\n",
    "loss = model.loss_function(ownership, y_conv)\n",
    "train_op = model.train_step(loss)\n",
    "\n",
    "prediction = tf.round(y_conv)\n",
    "correct_prediction = tf.equal(ownership, prediction)\n",
    "correct_count = tf.reduce_sum(tf.cast(correct_prediction, \"float\"))\n",
    "accuracy = tf.reduce_mean(tf.cast(correct_prediction, \"float\"))\n",
    "\n",
    "sess = tf.InteractiveSession()\n",
    "sess.run(tf.initialize_all_variables())\n",
    "saver = tf.train.Saver(tf.all_variables())\n",
    "\n",
    "ckpt_dir, _ = os.path.split(ckpt_path)\n",
    "ckpt = tf.train.latest_checkpoint(ckpt_dir)\n",
    "if ckpt is not None:\n",
    "    print(\"restore from previous checkpoint\")\n",
    "    saver.restore(sess, ckpt)"
   ]
  },
  {
   "cell_type": "code",
   "execution_count": 7,
   "metadata": {
    "scrolled": true
   },
   "outputs": [
    {
     "name": "stdout",
     "output_type": "stream",
     "text": [
      "0 0.06580281 0.897037\n",
      "Test accuracy: 0.199306\n",
      "Saving Checkpoint...\n",
      "10 0.070845485 0.8965432\n",
      "20 0.06402102 0.9034568\n",
      "30 0.07950077 0.8711111\n",
      "40 0.06912346 0.8990123\n",
      "50 0.062344413 0.905679\n",
      "60 0.06912107 0.8982716\n",
      "70 0.096773714 0.8567901\n",
      "80 0.061576974 0.9108642\n",
      "90 0.04927092 0.9291358\n",
      "100 0.039824072 0.94790125\n",
      "110 0.046400648 0.93777776\n",
      "120 0.0650427 0.90518516\n",
      "130 0.051293243 0.9276543\n",
      "140 0.06190622 0.9125926\n",
      "150 0.0649289 0.90839505\n",
      "160 0.07841362 0.8896296\n",
      "170 0.08591248 0.87259257\n",
      "180 0.045988243 0.9380247\n",
      "190 0.05329641 0.9219753\n",
      "200 0.06047908 0.91209877\n",
      "210 0.04352086 0.94\n",
      "220 0.071672924 0.88987654\n",
      "230 0.042158846 0.93901235\n",
      "240 0.07529846 0.8881481\n",
      "250 0.049269322 0.92444444\n",
      "260 0.07392627 0.89555556\n",
      "270 0.047569703 0.93580246\n",
      "280 0.07626155 0.8824691\n",
      "290 0.06791288 0.9059259\n",
      "300 0.044255737 0.9385185\n",
      "310 0.061131455 0.9195062\n",
      "320 0.08820426 0.865679\n",
      "330 0.0543798 0.92493826\n",
      "340 0.042757772 0.9419753\n",
      "350 0.06419619 0.91209877\n",
      "360 0.043749083 0.9412346\n",
      "370 0.04021929 0.94345677\n",
      "380 0.0491714 0.9362963\n",
      "390 0.046469092 0.9325926\n",
      "400 0.059263628 0.9130864\n",
      "410 0.05122346 0.9276543\n",
      "420 0.06024926 0.89753085\n",
      "430 0.05540842 0.91901237\n",
      "440 0.0956799 0.84617287\n",
      "450 0.038597893 0.9474074\n",
      "460 0.050495032 0.92839503\n",
      "470 0.03548251 0.94790125\n",
      "480 0.04568946 0.9335802\n",
      "490 0.067531 0.90765435\n",
      "500 0.06269256 0.9071605\n",
      "510 0.0486998 0.9316049\n",
      "520 0.05231174 0.9182716\n",
      "530 0.07235511 0.89160496\n",
      "540 0.04161543 0.9417284\n",
      "550 0.0650453 0.91012347\n",
      "560 0.06642955 0.9022222\n",
      "570 0.050895017 0.93012345\n",
      "580 0.052835826 0.92049384\n",
      "590 0.05739274 0.91901237\n",
      "600 0.05298754 0.925679\n",
      "610 0.04402928 0.94345677\n",
      "620 0.033827752 0.9496296\n",
      "630 0.0521806 0.93135804\n",
      "640 0.05649 0.92987657\n",
      "650 0.06724343 0.8940741\n",
      "660 0.062626354 0.9098765\n",
      "670 0.05913283 0.9182716\n",
      "680 0.04817686 0.93333334\n",
      "690 0.05235047 0.93209875\n",
      "700 0.05579633 0.9145679\n",
      "710 0.056278493 0.9217284\n",
      "720 0.049621243 0.9303704\n",
      "730 0.0689507 0.8980247\n",
      "740 0.068851165 0.90641975\n",
      "750 0.0455479 0.9306173\n",
      "760 0.039902646 0.9375309\n",
      "770 0.04455413 0.9419753\n",
      "780 0.055921216 0.9207407\n",
      "790 0.06092745 0.9177778\n",
      "800 0.056025937 0.917037\n",
      "810 0.05377065 0.92617285\n",
      "820 0.062564716 0.90765435\n",
      "830 0.074012056 0.8920988\n",
      "840 0.05796355 0.9162963\n",
      "850 0.05165945 0.9251852\n",
      "860 0.052061714 0.9246914\n",
      "870 0.05269778 0.91753083\n",
      "880 0.052248172 0.91604936\n",
      "890 0.049859803 0.917037\n",
      "900 0.057532977 0.9123457\n",
      "910 0.04542613 0.93728393\n",
      "920 0.03247205 0.95679015\n",
      "930 0.06965559 0.9014815\n",
      "940 0.05653125 0.91604936\n",
      "950 0.07689239 0.8837037\n",
      "960 0.058676556 0.91209877\n",
      "970 0.05763474 0.90814817\n",
      "980 0.04118892 0.9476543\n",
      "990 0.031528365 0.95506173\n",
      "1000 0.04780888 0.9232099\n",
      "Test accuracy: 0.198993\n",
      "Saving Checkpoint...\n",
      "1010 0.05923848 0.9098765\n",
      "1020 0.05117946 0.9288889\n",
      "1030 0.06373815 0.90395063\n",
      "1040 0.04059172 0.94024694\n",
      "1050 0.054684322 0.9219753\n",
      "1060 0.046662956 0.92938274\n",
      "1070 0.046275523 0.9291358\n",
      "1080 0.043046497 0.9454321\n",
      "1090 0.049946338 0.9306173\n",
      "1100 0.043989576 0.9424691\n",
      "1110 0.052245468 0.9276543\n",
      "1120 0.046586093 0.93506175\n",
      "1130 0.05277875 0.9291358\n",
      "1140 0.06332894 0.9004938\n",
      "1150 0.06648706 0.9014815\n",
      "1160 0.04411713 0.9412346\n",
      "1170 0.031055674 0.95185184\n",
      "1180 0.048899885 0.93382716\n",
      "1190 0.04317057 0.9345679\n",
      "1200 0.040579103 0.9355556\n",
      "1210 0.057391796 0.91358024\n",
      "1220 0.041156743 0.9444444\n",
      "1230 0.056098167 0.9266667\n",
      "1240 0.05360832 0.9182716\n",
      "1250 0.040986452 0.9483951\n",
      "1260 0.050274737 0.9340741\n",
      "1270 0.049096942 0.9308642\n",
      "1280 0.051482826 0.9222222\n",
      "1290 0.06464456 0.9054321\n",
      "1300 0.062474255 0.9106173\n",
      "1310 0.05123281 0.92246914\n",
      "1320 0.08141753 0.87185186\n",
      "1330 0.061994262 0.90641975\n",
      "1340 0.050090022 0.9239506\n",
      "1350 0.0748294 0.8906173\n",
      "1360 0.0446721 0.9387654\n",
      "1370 0.057871666 0.9177778\n",
      "1380 0.044563264 0.9387654\n",
      "1390 0.05478004 0.9308642\n",
      "1400 0.033642005 0.9590123\n",
      "1410 0.050128836 0.9266667\n",
      "1420 0.058325745 0.9182716\n",
      "1430 0.050164983 0.9367901\n",
      "1440 0.050160043 0.93382716\n",
      "1450 0.06101743 0.9180247\n",
      "1460 0.052987564 0.92123455\n",
      "1470 0.059937265 0.9167901\n",
      "1480 0.04191915 0.9437037\n",
      "1490 0.039756328 0.94024694\n",
      "1500 0.04170648 0.9385185\n",
      "1510 0.03795859 0.95308644\n",
      "1520 0.051774185 0.9239506\n",
      "1530 0.047008276 0.93580246\n",
      "1540 0.03691888 0.9565432\n",
      "1550 0.049758 0.9395062\n",
      "1560 0.045474898 0.93925923\n",
      "1570 0.06532344 0.90444446\n",
      "1580 0.0376857 0.94222224\n",
      "1590 0.05100063 0.92691356\n",
      "1600 0.06922964 0.8901235\n",
      "1610 0.06256705 0.91407406\n",
      "1620 0.04201431 0.9404938\n",
      "1630 0.030942792 0.95185184\n",
      "1640 0.053441983 0.91901237\n",
      "1650 0.038939163 0.9454321\n",
      "1660 0.024684725 0.96839505\n",
      "1670 0.066725574 0.90469134\n",
      "1680 0.06409306 0.90962964\n",
      "1690 0.0476601 0.9385185\n",
      "1700 0.04888275 0.92444444\n",
      "1710 0.045792956 0.9308642\n",
      "1720 0.05937846 0.91358024\n",
      "1730 0.05803354 0.9219753\n",
      "1740 0.042053662 0.94493824\n",
      "1750 0.05194229 0.92814815\n",
      "1760 0.035250206 0.94617283\n",
      "1770 0.04201783 0.9404938\n",
      "1780 0.057363514 0.9125926\n",
      "1790 0.034178797 0.95308644\n",
      "1800 0.04100517 0.93777776\n",
      "1810 0.033286247 0.95160496\n",
      "1820 0.07129081 0.8933333\n",
      "1830 0.027987337 0.96395063\n",
      "1840 0.03485088 0.9545679\n",
      "1850 0.033546463 0.95432097\n",
      "1860 0.045215 0.92938274\n",
      "1870 0.052433528 0.9202469\n",
      "1880 0.046444133 0.9232099\n",
      "1890 0.041023225 0.9451852\n",
      "1900 0.04065339 0.9508642\n",
      "1910 0.03872711 0.9419753\n",
      "1920 0.038586855 0.9469136\n",
      "1930 0.042123925 0.9476543\n",
      "1940 0.030664576 0.9562963\n",
      "1950 0.052704237 0.9158025\n",
      "1960 0.049151875 0.9288889\n",
      "1970 0.034405455 0.9562963\n",
      "1980 0.041098066 0.94617283\n",
      "1990 0.043122694 0.9348148\n",
      "2000 0.060774293 0.91012347\n",
      "Test accuracy: 0.198161\n",
      "Saving Checkpoint...\n",
      "2010 0.04531663 0.9365432\n",
      "2020 0.05655898 0.91530865\n",
      "2030 0.04223222 0.9412346\n",
      "2040 0.07496582 0.88987654\n",
      "2050 0.040468983 0.94024694\n",
      "2060 0.032231595 0.95703703\n",
      "2070 0.052174374 0.9150617\n",
      "2080 0.053987913 0.9259259\n",
      "2090 0.059259877 0.91160494\n",
      "2100 0.043949917 0.9360494\n",
      "2110 0.046773117 0.9323457\n",
      "2120 0.03659246 0.94617283\n",
      "2130 0.054533757 0.92419755\n",
      "2140 0.036445417 0.9553086\n",
      "2150 0.061678503 0.9162963\n",
      "2160 0.054942206 0.92617285\n",
      "2170 0.058252152 0.91333336\n",
      "2180 0.061057206 0.9130864\n",
      "2190 0.030326905 0.9553086\n",
      "2200 0.057602987 0.9158025\n",
      "2210 0.050496683 0.9323457\n",
      "2220 0.041620247 0.94493824\n",
      "2230 0.033350877 0.9525926\n",
      "2240 0.054360855 0.9232099\n",
      "2250 0.037538122 0.9496296\n",
      "2260 0.030547881 0.9582716\n",
      "2270 0.043498073 0.9476543\n",
      "2280 0.07466426 0.8891358\n",
      "2290 0.05620052 0.92\n",
      "2300 0.046994038 0.9345679\n",
      "2310 0.06454222 0.90395063\n",
      "2320 0.04057297 0.93728393\n",
      "2330 0.03932626 0.9474074\n",
      "2340 0.052455924 0.9291358\n",
      "2350 0.05182259 0.9288889\n",
      "2360 0.045018196 0.94296294\n",
      "2370 0.051137123 0.9254321\n",
      "2380 0.04300496 0.94074076\n",
      "2390 0.053931076 0.92246914\n",
      "2400 0.04265626 0.93901235\n",
      "2410 0.032632552 0.95234567\n",
      "2420 0.05319048 0.92987657\n",
      "2430 0.04509947 0.9414815\n",
      "2440 0.039566934 0.94790125\n",
      "2450 0.039908357 0.9469136\n",
      "2460 0.037763987 0.9362963\n",
      "2470 0.06064082 0.90518516\n",
      "2480 0.049512856 0.9251852\n",
      "2490 0.057918914 0.91209877\n"
     ]
    }
   ],
   "source": [
    "training_accuracies = []\n",
    "test_accuracies = []\n",
    "for k in range(2500):\n",
    "    x_batch, y_batch = reader.get_batch(50)\n",
    "    _, loss_value, y_value = sess.run([train_op, loss, y_conv], feed_dict={x:x_batch, ownership:y_batch})\n",
    "    if k % 10 == 0:\n",
    "        acc = accuracy.eval(feed_dict={x:x_batch, ownership:y_batch})\n",
    "        training_accuracies.append(acc)\n",
    "        print k, loss_value, acc\n",
    "            \n",
    "    if k % 1000 == 0:\n",
    "        test_accuracy = model_eval.test_accuracy(test_features, test_targets, x, ownership, correct_count)\n",
    "        test_accuracies.append(test_accuracy)\n",
    "        print \"Test accuracy: %f\" %test_accuracy\n",
    "    if k % 1000 == 0:\n",
    "        print \"Saving Checkpoint...\"\n",
    "        saver.save(sess, ckpt_path)\n",
    "    "
   ]
  },
  {
   "cell_type": "code",
   "execution_count": 8,
   "metadata": {},
   "outputs": [],
   "source": [
    "import matplotlib.pyplot as plt\n",
    "import numpy as np"
   ]
  },
  {
   "cell_type": "code",
   "execution_count": 9,
   "metadata": {},
   "outputs": [],
   "source": [
    "def rolling_mean(number_list, window = 20):\n",
    "    means = np.zeros(len(number_list))\n",
    "    for i in xrange(len(means)):\n",
    "        sub_window = number_list[i-window+1:i+1]\n",
    "        means[i] = np.mean(sub_window)\n",
    "    return means"
   ]
  },
  {
   "cell_type": "code",
   "execution_count": 10,
   "metadata": {},
   "outputs": [
    {
     "name": "stdout",
     "output_type": "stream",
     "text": [
      "250\n"
     ]
    },
    {
     "data": {
      "image/png": "[encoded data removed]",
      "text/plain": [
       "<Figure size 432x288 with 1 Axes>"
      ]
     },
     "metadata": {
      "needs_background": "light"
     },
     "output_type": "display_data"
    }
   ],
   "source": [
    "print len(training_accuracies)\n",
    "means = rolling_mean(test_accuracies, 20)\n",
    "plt.plot(test_accuracies, label=\"Batch Accuracy\")\n",
    "plt.plot(means, label= \"Rolling Mean\")\n",
    "plt.title(\"Good Data Mixing 5layer 64filters\")\n",
    "plt.xlabel(\"Batch Num / 10\")\n",
    "plt.ylabel(\"Accuracy\")\n",
    "plt.ylim([0,1])\n",
    "plt.legend(loc=3)\n",
    "plt.show()"
   ]
  },
  {
   "cell_type": "code",
   "execution_count": 11,
   "metadata": {},
   "outputs": [
    {
     "name": "stdout",
     "output_type": "stream",
     "text": [
      "0\n",
      "500\n",
      "1000\n",
      "1500\n",
      "2000\n",
      "2500\n",
      "3000\n",
      "3500\n",
      "4000\n",
      "4500\n"
     ]
    }
   ],
   "source": [
    "accuracies = []\n",
    "y_trues = []\n",
    "y_preds = []\n",
    "feature_cubes = []\n",
    "for i in xrange(len(test_features)):\n",
    "    if i%500 == 0:\n",
    "        print i\n",
    "    x_, y_ = test_features[i], test_targets[i]\n",
    "    y_val, y_pred, acc = sess.run([y_conv, prediction, accuracy], feed_dict={x:[x_], ownership:[y_]})\n",
    "    accuracies.append(acc)\n",
    "    y_trues.append(np.reshape(y_, [9,9]))\n",
    "    y_preds.append(np.reshape(y_pred[0], [9,9]))\n",
    "    feature_cubes.append(x_)"
   ]
  },
  {
   "cell_type": "code",
   "execution_count": 31,
   "metadata": {},
   "outputs": [
    {
     "name": "stdout",
     "output_type": "stream",
     "text": [
      "(32, 0.9506173)\n"
     ]
    }
   ],
   "source": [
    "idx = 546\n",
    "y_pred = y_preds[idx]\n",
    "y_true = y_trues[idx]\n",
    "feature_cube = feature_cubes[idx]\n",
    "\n",
    "print(test_move_numbers[idx], accuracies[idx])\n",
    "model_eval.print_info(feature_cube, y_pred, y_true, board_size=9)"
   ]
  },
  {
   "cell_type": "code",
   "execution_count": 19,
   "metadata": {},
   "outputs": [],
   "source": [
    "import pandas as pd"
   ]
  },
  {
   "cell_type": "code",
   "execution_count": 20,
   "metadata": {},
   "outputs": [],
   "source": [
    "df = pd.DataFrame()\n",
    "df[\"Move Num\"] = test_move_numbers\n",
    "df[\"Accuracy\"] = accuracies\n",
    "grouped = df.groupby(\"Move Num\").aggregate(np.mean)\n"
   ]
  },
  {
   "cell_type": "code",
   "execution_count": 21,
   "metadata": {},
   "outputs": [
    {
     "data": {
      "image/png": "[encoded data removed]",
      "text/plain": [
       "<Figure size 432x288 with 1 Axes>"
      ]
     },
     "metadata": {
      "needs_background": "light"
     },
     "output_type": "display_data"
    }
   ],
   "source": [
    "grouped.plot()\n",
    "plt.title(\"Accuracy by move number, 5layer 64filters\")\n",
    "plt.xlabel(\"Move Number\")\n",
    "plt.ylabel(\"Accuracy\")\n",
    "plt.show()"
   ]
  },
  {
   "cell_type": "code",
   "execution_count": 22,
   "metadata": {},
   "outputs": [
    {
     "data": {
      "image/png": "[encoded data removed]",
      "text/plain": [
       "<Figure size 432x288 with 1 Axes>"
      ]
     },
     "metadata": {
      "needs_background": "light"
     },
     "output_type": "display_data"
    }
   ],
   "source": [
    "plot = plt.hist(df[df[\"Move Num\"] == 250][\"Accuracy\"].values, bins = 40)\n",
    "plt.show()"
   ]
  },
  {
   "cell_type": "code",
   "execution_count": null,
   "metadata": {},
   "outputs": [],
   "source": []
  }
 ],
 "metadata": {
  "kernelspec": {
   "display_name": "GoCNN py2",
   "language": "python",
   "name": "gocnn_py2"
  },
  "language_info": {
   "codemirror_mode": {
    "name": "ipython",
    "version": 2
   },
   "file_extension": ".py",
   "mimetype": "text/x-python",
   "name": "python",
   "nbconvert_exporter": "python",
   "pygments_lexer": "ipython2",
   "version": "2.7.15"
  }
 },
 "nbformat": 4,
 "nbformat_minor": 1
}
