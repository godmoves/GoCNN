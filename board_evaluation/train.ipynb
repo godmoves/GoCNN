{
 "cells": [
  {
   "cell_type": "code",
   "execution_count": 1,
   "metadata": {},
   "outputs": [],
   "source": [
    "import tensorflow as tf\n",
    "import os\n",
    "import sys\n",
    "import go_datafile_reader\n",
    "import model\n",
    "import numpy as np\n",
    "import model_eval"
   ]
  },
  {
   "cell_type": "code",
   "execution_count": 2,
   "metadata": {},
   "outputs": [],
   "source": [
    "train_dir = \"../data/input/train\"\n",
    "test_dir = \"../data/input/test\"\n",
    "ckpt_path = \"../data/working/test.ckpt\""
   ]
  },
  {
   "cell_type": "code",
   "execution_count": 3,
   "metadata": {},
   "outputs": [
    {
     "name": "stdout",
     "output_type": "stream",
     "text": [
      "num train: 957, num test: 30\n"
     ]
    }
   ],
   "source": [
    "train_files = []\n",
    "for subdir, dirs, files in os.walk(train_dir):\n",
    "    for file in files:\n",
    "        filepath = subdir + os.sep + file\n",
    "        if filepath.endswith(\".dat\"):\n",
    "            train_files.append(filepath)\n",
    "\n",
    "test_files = []\n",
    "for subdir, dirs, files in os.walk(test_dir):\n",
    "    for file in files:\n",
    "        filepath = subdir + os.sep + file\n",
    "        if filepath.endswith(\".dat\"):\n",
    "            test_files.append(filepath)\n",
    "\n",
    "print \"num train: %d, num test: %d\" %(len(train_files), len(test_files))"
   ]
  },
  {
   "cell_type": "code",
   "execution_count": 4,
   "metadata": {},
   "outputs": [
    {
     "name": "stdout",
     "output_type": "stream",
     "text": [
      "Initializing pointers in 957 datafiles, this may take a few minutes\n"
     ]
    }
   ],
   "source": [
    "#note you may have to change the os limit for number of open files to use the RandomAccessFileReader\n",
    "#you can do this with the command \"sudo ulimit -n 20000\"\n",
    "#if sudo can't find the ulimit command try the following below\n",
    "#sudo sh -c \"ulimit -n 20000 && exec su $LOGNAME\"\n",
    "\n",
    "reader = go_datafile_reader.RandomAccessFileReader(train_files, board_size=9)\n",
    "test_reader = go_datafile_reader.GoDatafileReader(test_files, board_size=9)\n",
    "\n",
    "test_reader.num_epochs = 0\n",
    "test_features = []\n",
    "test_targets = []\n",
    "test_move_numbers = []\n",
    "while(test_reader.num_epochs == 0):\n",
    "    test_move_numbers.append(test_reader.move_index)\n",
    "    final_state, _, feature_cube = test_reader.read_sample()\n",
    "    test_features.append(feature_cube)\n",
    "    test_targets.append(final_state)"
   ]
  },
  {
   "cell_type": "code",
   "execution_count": 5,
   "metadata": {},
   "outputs": [
    {
     "name": "stdout",
     "output_type": "stream",
     "text": [
      "957\n"
     ]
    }
   ],
   "source": [
    "print len(reader.open_files)"
   ]
  },
  {
   "cell_type": "code",
   "execution_count": 6,
   "metadata": {},
   "outputs": [
    {
     "ename": "InternalError",
     "evalue": "Failed to create session.",
     "output_type": "error",
     "traceback": [
      "\u001b[0;31m---------------------------------------------------------------------------\u001b[0m",
      "\u001b[0;31mInternalError\u001b[0m                             Traceback (most recent call last)",
      "\u001b[0;32m<ipython-input-6-ed0729d364d5>\u001b[0m in \u001b[0;36m<module>\u001b[0;34m()\u001b[0m\n\u001b[1;32m      9\u001b[0m \u001b[0maccuracy\u001b[0m \u001b[0;34m=\u001b[0m \u001b[0mtf\u001b[0m\u001b[0;34m.\u001b[0m\u001b[0mreduce_mean\u001b[0m\u001b[0;34m(\u001b[0m\u001b[0mtf\u001b[0m\u001b[0;34m.\u001b[0m\u001b[0mcast\u001b[0m\u001b[0;34m(\u001b[0m\u001b[0mcorrect_prediction\u001b[0m\u001b[0;34m,\u001b[0m \u001b[0;34m\"float\"\u001b[0m\u001b[0;34m)\u001b[0m\u001b[0;34m)\u001b[0m\u001b[0;34m\u001b[0m\u001b[0m\n\u001b[1;32m     10\u001b[0m \u001b[0;34m\u001b[0m\u001b[0m\n\u001b[0;32m---> 11\u001b[0;31m \u001b[0msess\u001b[0m \u001b[0;34m=\u001b[0m \u001b[0mtf\u001b[0m\u001b[0;34m.\u001b[0m\u001b[0mInteractiveSession\u001b[0m\u001b[0;34m(\u001b[0m\u001b[0;34m)\u001b[0m\u001b[0;34m\u001b[0m\u001b[0m\n\u001b[0m\u001b[1;32m     12\u001b[0m \u001b[0msess\u001b[0m\u001b[0;34m.\u001b[0m\u001b[0mrun\u001b[0m\u001b[0;34m(\u001b[0m\u001b[0mtf\u001b[0m\u001b[0;34m.\u001b[0m\u001b[0minitialize_all_variables\u001b[0m\u001b[0;34m(\u001b[0m\u001b[0;34m)\u001b[0m\u001b[0;34m)\u001b[0m\u001b[0;34m\u001b[0m\u001b[0m\n\u001b[1;32m     13\u001b[0m \u001b[0msaver\u001b[0m \u001b[0;34m=\u001b[0m \u001b[0mtf\u001b[0m\u001b[0;34m.\u001b[0m\u001b[0mtrain\u001b[0m\u001b[0;34m.\u001b[0m\u001b[0mSaver\u001b[0m\u001b[0;34m(\u001b[0m\u001b[0mtf\u001b[0m\u001b[0;34m.\u001b[0m\u001b[0mall_variables\u001b[0m\u001b[0;34m(\u001b[0m\u001b[0;34m)\u001b[0m\u001b[0;34m)\u001b[0m\u001b[0;34m\u001b[0m\u001b[0m\n",
      "\u001b[0;32m/home/mankit/.conda/envs/gocnn/lib/python2.7/site-packages/tensorflow/python/client/session.pyc\u001b[0m in \u001b[0;36m__init__\u001b[0;34m(self, target, graph, config)\u001b[0m\n",
      "\u001b[0;32m/home/mankit/.conda/envs/gocnn/lib/python2.7/site-packages/tensorflow/python/client/session.pyc\u001b[0m in \u001b[0;36m__init__\u001b[0;34m(self, target, graph, config)\u001b[0m\n",
      "\u001b[0;31mInternalError\u001b[0m: Failed to create session."
     ]
    }
   ],
   "source": [
    "x, ownership = model.place_holders()\n",
    "y_conv = model.model(x)\n",
    "loss = model.loss_function(ownership, y_conv)\n",
    "train_op = model.train_step(loss)\n",
    "\n",
    "prediction = tf.round(y_conv)\n",
    "correct_prediction = tf.equal(ownership, prediction)\n",
    "correct_count = tf.reduce_sum(tf.cast(correct_prediction, \"float\"))\n",
    "accuracy = tf.reduce_mean(tf.cast(correct_prediction, \"float\"))\n",
    "\n",
    "sess = tf.InteractiveSession()\n",
    "sess.run(tf.initialize_all_variables())\n",
    "saver = tf.train.Saver(tf.all_variables())\n",
    "\n",
    "ckpt_dir, _ = os.path.split(ckpt_path)\n",
    "ckpt = tf.train.latest_checkpoint(ckpt_dir)\n",
    "if ckpt is not None:\n",
    "    print(\"restore from previous checkpoint\")\n",
    "    saver.restore(sess, ckpt)"
   ]
  },
  {
   "cell_type": "code",
   "execution_count": null,
   "metadata": {},
   "outputs": [],
   "source": [
    "training_accuracies = []\n",
    "test_accuracies = []\n",
    "for k in range(100000):\n",
    "    x_batch, y_batch = reader.get_batch(50)\n",
    "    _, loss_value, y_value = sess.run([train_op, loss, y_conv], feed_dict={x:x_batch, ownership:y_batch})\n",
    "    if k % 10 == 0:\n",
    "        acc = accuracy.eval(feed_dict={x:x_batch, ownership:y_batch})\n",
    "        training_accuracies.append(acc)\n",
    "        print k, loss_value, acc\n",
    "            \n",
    "    if k % 1000 == 0:\n",
    "        test_accuracy = model_eval.test_accuracy(test_features, test_targets, x, ownership, correct_count)\n",
    "        test_accuracies.append(test_accuracy)\n",
    "        print \"Test accuracy: %f\" %test_accuracy\n",
    "    if k % 1000 == 0:\n",
    "        print \"Saving Checkpoint...\"\n",
    "        saver.save(sess, ckpt_path)\n",
    "    "
   ]
  },
  {
   "cell_type": "code",
   "execution_count": null,
   "metadata": {},
   "outputs": [],
   "source": [
    "import matplotlib.pyplot as plt\n",
    "import numpy as np"
   ]
  },
  {
   "cell_type": "code",
   "execution_count": null,
   "metadata": {},
   "outputs": [],
   "source": [
    "def rolling_mean(number_list, window = 20):\n",
    "    means = np.zeros(len(number_list))\n",
    "    for i in xrange(len(means)):\n",
    "        sub_window = number_list[i-window+1:i+1]\n",
    "        means[i] = np.mean(sub_window)\n",
    "    return means"
   ]
  },
  {
   "cell_type": "code",
   "execution_count": null,
   "metadata": {},
   "outputs": [],
   "source": [
    "print len(training_accuracies)\n",
    "means = rolling_mean(test_accuracies, 20)\n",
    "plt.plot(test_accuracies, label=\"Batch Accuracy\")\n",
    "plt.plot(means, label= \"Rolling Mean\")\n",
    "plt.title(\"Good Data Mixing 5layer 64filters\")\n",
    "plt.xlabel(\"Batch Num / 10\")\n",
    "plt.ylabel(\"Accuracy\")\n",
    "plt.ylim([.6,1])\n",
    "plt.legend(loc=3)\n",
    "plt.show()"
   ]
  },
  {
   "cell_type": "code",
   "execution_count": null,
   "metadata": {},
   "outputs": [],
   "source": [
    "accuracies = []\n",
    "y_trues = []\n",
    "y_preds = []\n",
    "feature_cubes = []\n",
    "for i in xrange(len(test_features)):\n",
    "    if i%500 == 0:\n",
    "        print i\n",
    "    x_, y_ = test_features[i], test_targets[i]\n",
    "    y_val, y_pred, acc = sess.run([y_conv, prediction, accuracy], feed_dict={x:[x_], ownership:[y_]})\n",
    "    accuracies.append(acc)\n",
    "    y_trues.append(np.reshape(y_, [19,19]))\n",
    "    y_preds.append(np.reshape(y_pred[0], [19,19]))\n",
    "    feature_cubes.append(x_)"
   ]
  },
  {
   "cell_type": "code",
   "execution_count": null,
   "metadata": {},
   "outputs": [],
   "source": [
    "idx = 3500\n",
    "y_pred = y_preds[idx]\n",
    "y_true = y_trues[idx]\n",
    "feature_cube = feature_cubes[idx]\n",
    "\n",
    "print test_move_numbers[idx], accuracies[idx]\n",
    "model_eval.print_info(feature_cube, y_pred, y_true)\n",
    "\n",
    "    "
   ]
  },
  {
   "cell_type": "code",
   "execution_count": null,
   "metadata": {},
   "outputs": [],
   "source": [
    "import pandas as pd"
   ]
  },
  {
   "cell_type": "code",
   "execution_count": null,
   "metadata": {},
   "outputs": [],
   "source": [
    "df = pd.DataFrame()\n",
    "df[\"Move Num\"] = test_move_numbers\n",
    "df[\"Accuracy\"] = accuracies\n",
    "grouped = df.groupby(\"Move Num\").aggregate(np.mean)\n"
   ]
  },
  {
   "cell_type": "code",
   "execution_count": null,
   "metadata": {},
   "outputs": [],
   "source": [
    "grouped.plot()\n",
    "plt.title(\"Accuracy by move number, 5layer 64filters\")\n",
    "plt.xlabel(\"Move Number\")\n",
    "plt.ylabel(\"Accuracy\")\n",
    "plt.show()"
   ]
  },
  {
   "cell_type": "code",
   "execution_count": null,
   "metadata": {},
   "outputs": [],
   "source": [
    "plot = plt.hist(df[df[\"Move Num\"] == 250][\"Accuracy\"].values, bins = 40)\n",
    "plt.show()"
   ]
  },
  {
   "cell_type": "code",
   "execution_count": null,
   "metadata": {},
   "outputs": [],
   "source": []
  }
 ],
 "metadata": {
  "kernelspec": {
   "display_name": "GoCNN py2",
   "language": "python",
   "name": "gocnn_py2"
  },
  "language_info": {
   "codemirror_mode": {
    "name": "ipython",
    "version": 2
   },
   "file_extension": ".py",
   "mimetype": "text/x-python",
   "name": "python",
   "nbconvert_exporter": "python",
   "pygments_lexer": "ipython2",
   "version": "2.7.15"
  }
 },
 "nbformat": 4,
 "nbformat_minor": 1
}
